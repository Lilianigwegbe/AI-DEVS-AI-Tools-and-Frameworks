{
 "cells": [
  {
   "cell_type": "code",
   "execution_count": 8,
   "id": "04898b41",
   "metadata": {},
   "outputs": [
    {
     "name": "stdout",
     "output_type": "stream",
     "text": [
      "Review 1:\n",
      " 🔹 Text      : I absolutely love the Sony WH-1000XM4 headphones! The sound quality and comfort are top-notch.\n",
      " 🔹 Products  : []\n",
      " 🔹 Brands    : ['Sony']\n",
      " 🔹 Sentiment : Positive\n",
      "\n",
      "Review 2:\n",
      " 🔹 Text      : The Samsung Galaxy S21 Ultra camera is disappointing and overpriced.\n",
      " 🔹 Products  : []\n",
      " 🔹 Brands    : []\n",
      " 🔹 Sentiment : Negative\n",
      "\n",
      "Review 3:\n",
      " 🔹 Text      : Bought the Roomba 675 robot vacuum, and it's been a lifesaver. Very reliable!\n",
      " 🔹 Products  : []\n",
      " 🔹 Brands    : []\n",
      " 🔹 Sentiment : Positive\n",
      "\n",
      "Review 4:\n",
      " 🔹 Text      : This Apple MacBook Pro is fantastic but the battery life is mediocre.\n",
      " 🔹 Products  : []\n",
      " 🔹 Brands    : []\n",
      " 🔹 Sentiment : Neutral\n",
      "\n"
     ]
    }
   ],
   "source": [
    "import spacy\n",
    "from spacy import displacy\n",
    "import re\n",
    "\n",
    "# Load spaCy English model\n",
    "nlp = spacy.load(\"en_core_web_sm\")\n",
    "\n",
    "# Sample review data (you can load as many rows as you want)\n",
    "reviews = [\n",
    "    \"I absolutely love the Sony WH-1000XM4 headphones! The sound quality and comfort are top-notch.\",\n",
    "    \"The Samsung Galaxy S21 Ultra camera is disappointing and overpriced.\",\n",
    "    \"Bought the Roomba 675 robot vacuum, and it's been a lifesaver. Very reliable!\",\n",
    "    \"This Apple MacBook Pro is fantastic but the battery life is mediocre.\"\n",
    "]\n",
    "\n",
    "def extract_entities(text):\n",
    "    doc = nlp(text)\n",
    "    products = []\n",
    "    brands = []\n",
    "    for ent in doc.ents:\n",
    "        if ent.label_ in (\"PRODUCT\", \"ORG\"):\n",
    "            # Simple rule: names with typical brand names → ORG\n",
    "            if ent.label_ == \"ORG\":\n",
    "                brands.append(ent.text)\n",
    "            else:\n",
    "                products.append(ent.text)\n",
    "    return products, brands\n",
    "\n",
    "def sentiment_score(text):\n",
    "    # Basic rule-based sentiment based on positive/negative words\n",
    "    positive = len(re.findall(r\"\\b(love|great|fantastic|lifesaver|top-notch|reliable)\\b\", text, re.IGNORECASE))\n",
    "    negative = len(re.findall(r\"\\b(disappointing|poor|mediocre|overpriced|bad|terrible)\\b\", text, re.IGNORECASE))\n",
    "    if positive > negative:\n",
    "        return \"Positive\"\n",
    "    elif negative > positive:\n",
    "        return \"Negative\"\n",
    "    else:\n",
    "        return \"Neutral\"\n",
    "\n",
    "# Process each review\n",
    "for idx, rev in enumerate(reviews, 1):\n",
    "    products, brands = extract_entities(rev)\n",
    "    sentiment = sentiment_score(rev)\n",
    "    print(f\"Review {idx}:\")\n",
    "    print(\" 🔹 Text      :\", rev)\n",
    "    print(\" 🔹 Products  :\", products)\n",
    "    print(\" 🔹 Brands    :\", brands)\n",
    "    print(\" 🔹 Sentiment :\", sentiment)\n",
    "    print()\n"
   ]
  }
 ],
 "metadata": {
  "kernelspec": {
   "display_name": "Python 3",
   "language": "python",
   "name": "python3"
  },
  "language_info": {
   "codemirror_mode": {
    "name": "ipython",
    "version": 3
   },
   "file_extension": ".py",
   "mimetype": "text/x-python",
   "name": "python",
   "nbconvert_exporter": "python",
   "pygments_lexer": "ipython3",
   "version": "3.13.2"
  }
 },
 "nbformat": 4,
 "nbformat_minor": 5
}
