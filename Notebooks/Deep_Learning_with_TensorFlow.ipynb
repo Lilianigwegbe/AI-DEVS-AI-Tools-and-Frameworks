{
  "nbformat": 4,
  "nbformat_minor": 0,
  "metadata": {
    "colab": {
      "provenance": []
    },
    "kernelspec": {
      "name": "python3",
      "display_name": "Python 3"
    },
    "language_info": {
      "name": "python"
    }
  },
  "cells": [
    {
      "cell_type": "code",
      "execution_count": 3,
      "metadata": {
        "colab": {
          "base_uri": "https://localhost:8080/",
          "height": 577
        },
        "id": "RQcMH6gcLL_s",
        "outputId": "b0b301aa-f9f8-49d8-e1ab-52a4aa5dee32"
      },
      "outputs": [
        {
          "output_type": "stream",
          "name": "stdout",
          "text": [
            "Downloading data from https://storage.googleapis.com/tensorflow/tf-keras-datasets/mnist.npz\n",
            "\u001b[1m11490434/11490434\u001b[0m \u001b[32m━━━━━━━━━━━━━━━━━━━━\u001b[0m\u001b[37m\u001b[0m \u001b[1m0s\u001b[0m 0us/step\n"
          ]
        },
        {
          "output_type": "stream",
          "name": "stderr",
          "text": [
            "/usr/local/lib/python3.11/dist-packages/keras/src/layers/convolutional/base_conv.py:107: UserWarning: Do not pass an `input_shape`/`input_dim` argument to a layer. When using Sequential models, prefer using an `Input(shape)` object as the first layer in the model instead.\n",
            "  super().__init__(activity_regularizer=activity_regularizer, **kwargs)\n"
          ]
        },
        {
          "output_type": "stream",
          "name": "stdout",
          "text": [
            "Epoch 1/5\n",
            "844/844 - 42s - 50ms/step - accuracy: 0.9411 - loss: 0.1954 - val_accuracy: 0.9828 - val_loss: 0.0638\n",
            "Epoch 2/5\n",
            "844/844 - 41s - 48ms/step - accuracy: 0.9816 - loss: 0.0590 - val_accuracy: 0.9832 - val_loss: 0.0576\n",
            "Epoch 3/5\n",
            "844/844 - 38s - 45ms/step - accuracy: 0.9874 - loss: 0.0413 - val_accuracy: 0.9898 - val_loss: 0.0382\n",
            "Epoch 4/5\n",
            "844/844 - 37s - 44ms/step - accuracy: 0.9898 - loss: 0.0320 - val_accuracy: 0.9903 - val_loss: 0.0359\n",
            "Epoch 5/5\n",
            "844/844 - 37s - 43ms/step - accuracy: 0.9921 - loss: 0.0239 - val_accuracy: 0.9870 - val_loss: 0.0430\n",
            "\n",
            "✅ Test Accuracy: 98.82%\n",
            "\u001b[1m1/1\u001b[0m \u001b[32m━━━━━━━━━━━━━━━━━━━━\u001b[0m\u001b[37m\u001b[0m \u001b[1m0s\u001b[0m 96ms/step\n"
          ]
        },
        {
          "output_type": "display_data",
          "data": {
            "text/plain": [
              "<Figure size 1000x300 with 5 Axes>"
            ],
            "image/png": "[encoded data removed]"
          },
          "metadata": {}
        }
      ],
      "source": [
        "import tensorflow as tf\n",
        "from tensorflow.keras import layers, models\n",
        "import matplotlib.pyplot as plt\n",
        "import numpy as np\n",
        "\n",
        "# ------------------------------\n",
        "# 1. Load and Preprocess Dataset\n",
        "# ------------------------------\n",
        "# Load MNIST dataset (images of handwritten digits 0–9)\n",
        "(x_train, y_train), (x_test, y_test) = tf.keras.datasets.mnist.load_data()\n",
        "\n",
        "# Normalize pixel values to range [0, 1] and reshape to add channel dimension\n",
        "x_train = x_train.astype(\"float32\") / 255.0\n",
        "x_test = x_test.astype(\"float32\") / 255.0\n",
        "x_train = x_train[..., tf.newaxis]  # Shape becomes (28, 28, 1)\n",
        "x_test = x_test[..., tf.newaxis]\n",
        "\n",
        "# ------------------------------\n",
        "# 2. Build the CNN Model\n",
        "# ------------------------------\n",
        "model = models.Sequential([\n",
        "    # First convolutional layer: 32 filters, 3x3 kernel, ReLU activation\n",
        "    layers.Conv2D(32, (3, 3), activation='relu', input_shape=(28, 28, 1)),\n",
        "    layers.MaxPooling2D((2, 2)),  # Downsample with 2x2 max pooling\n",
        "\n",
        "    # Second convolutional layer: 64 filters\n",
        "    layers.Conv2D(64, (3, 3), activation='relu'),\n",
        "    layers.MaxPooling2D((2, 2)),  # Further downsampling\n",
        "\n",
        "    # Flatten the output to feed into dense layers\n",
        "    layers.Flatten(),\n",
        "\n",
        "    # Dense hidden layer with 64 neurons\n",
        "    layers.Dense(64, activation='relu'),\n",
        "\n",
        "    # Output layer with 10 neurons (one per digit class), softmax for probabilities\n",
        "    layers.Dense(10, activation='softmax')\n",
        "])\n",
        "\n",
        "# ------------------------------\n",
        "# 3. Compile the Model\n",
        "# ------------------------------\n",
        "# Use Adam optimizer, sparse categorical crossentropy for integer labels\n",
        "model.compile(optimizer='adam',\n",
        "              loss='sparse_categorical_crossentropy',\n",
        "              metrics=['accuracy'])\n",
        "\n",
        "# ------------------------------\n",
        "# 4. Train the Model\n",
        "# ------------------------------\n",
        "# Train for 5 epochs using 64 images per batch, reserve 10% for validation\n",
        "history = model.fit(x_train, y_train, epochs=5, batch_size=64,\n",
        "                    validation_split=0.1, verbose=2)\n",
        "\n",
        "# ------------------------------\n",
        "# 5. Evaluate on Test Data\n",
        "# ------------------------------\n",
        "# Compute accuracy on the unseen test dataset\n",
        "test_loss, test_acc = model.evaluate(x_test, y_test, verbose=0)\n",
        "print(f\"\\n✅ Test Accuracy: {test_acc * 100:.2f}%\")\n",
        "\n",
        "# ------------------------------\n",
        "# 6. Make and Visualize Predictions\n",
        "# ------------------------------\n",
        "# Pick first 5 test images and predict their labels\n",
        "num_samples = 5\n",
        "sample_images = x_test[:num_samples]\n",
        "sample_labels = y_test[:num_samples]\n",
        "predictions = model.predict(sample_images)\n",
        "\n",
        "# Plot each image with predicted and true labels\n",
        "plt.figure(figsize=(10, 3))\n",
        "for i in range(num_samples):\n",
        "    plt.subplot(1, num_samples, i + 1)\n",
        "    plt.imshow(sample_images[i].squeeze(), cmap='gray')\n",
        "    plt.title(f\"Pred: {np.argmax(predictions[i])}\\nTrue: {sample_labels[i]}\")\n",
        "    plt.axis('off')\n",
        "plt.tight_layout()\n",
        "plt.show()\n"
      ]
    }
  ]
}